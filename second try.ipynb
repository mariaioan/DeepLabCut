{
 "cells": [
  {
   "cell_type": "code",
   "execution_count": 1,
   "id": "a63ac802",
   "metadata": {},
   "outputs": [],
   "source": [
    "import deeplabcut"
   ]
  },
  {
   "cell_type": "code",
   "execution_count": 2,
   "id": "415790af",
   "metadata": {},
   "outputs": [
    {
     "name": "stdout",
     "output_type": "stream",
     "text": [
      "Created \"\\\\fs01\\mioannid$\\Dokumente\\GitHub\\DeepLabCut\\First Attempt-Maria Ioannidou-2022-02-14\\videos\"\n",
      "Created \"\\\\fs01\\mioannid$\\Dokumente\\GitHub\\DeepLabCut\\First Attempt-Maria Ioannidou-2022-02-14\\labeled-data\"\n",
      "Created \"\\\\fs01\\mioannid$\\Dokumente\\GitHub\\DeepLabCut\\First Attempt-Maria Ioannidou-2022-02-14\\training-datasets\"\n",
      "Created \"\\\\fs01\\mioannid$\\Dokumente\\GitHub\\DeepLabCut\\First Attempt-Maria Ioannidou-2022-02-14\\dlc-models\"\n",
      "Copying the videos\n"
     ]
    },
    {
     "name": "stderr",
     "output_type": "stream",
     "text": [
      "U:\\Dokumente\\GitHub\\DeepLabCut\\deeplabcut\\create_project\\new.py:194: UserWarning: No valid videos were found. The project was not created... Verify the video files and re-create the project.\n",
      "  warnings.warn(\n"
     ]
    }
   ],
   "source": [
    "task='First Attempt'\n",
    "experimenter='Maria Ioannidou'\n",
    "video=['\\\\uni-mainz.de\\dfs\\profiles\\settings\\mioannid\\Desktop\\mariahandmoving']\n",
    "path_config_file=deeplabcut.create_new_project(task,experimenter,video,copy_videos=True)"
   ]
  },
  {
   "cell_type": "code",
   "execution_count": null,
   "id": "b5372aac",
   "metadata": {},
   "outputs": [],
   "source": []
  }
 ],
 "metadata": {
  "kernelspec": {
   "display_name": "Python [conda env:DEEPLABCUT] *",
   "language": "python",
   "name": "conda-env-DEEPLABCUT-py"
  },
  "language_info": {
   "codemirror_mode": {
    "name": "ipython",
    "version": 3
   },
   "file_extension": ".py",
   "mimetype": "text/x-python",
   "name": "python",
   "nbconvert_exporter": "python",
   "pygments_lexer": "ipython3",
   "version": "3.8.12"
  }
 },
 "nbformat": 4,
 "nbformat_minor": 5
}
