{
 "cells": [
  {
   "cell_type": "code",
   "execution_count": 1,
   "id": "e0eddc6e",
   "metadata": {},
   "outputs": [],
   "source": [
    "import deeplabcut"
   ]
  },
  {
   "cell_type": "code",
   "execution_count": 4,
   "id": "841f2277",
   "metadata": {},
   "outputs": [
    {
     "name": "stdout",
     "output_type": "stream",
     "text": [
      "Created \"\\\\fs01\\mioannid$\\Dokumente\\GitHub\\DeepLabCut\\first_attempt_project\\First Attempt-Maria Ioannidou-2022-02-14\\videos\"\n",
      "Created \"\\\\fs01\\mioannid$\\Dokumente\\GitHub\\DeepLabCut\\first_attempt_project\\First Attempt-Maria Ioannidou-2022-02-14\\labeled-data\"\n",
      "Created \"\\\\fs01\\mioannid$\\Dokumente\\GitHub\\DeepLabCut\\first_attempt_project\\First Attempt-Maria Ioannidou-2022-02-14\\training-datasets\"\n",
      "Created \"\\\\fs01\\mioannid$\\Dokumente\\GitHub\\DeepLabCut\\first_attempt_project\\First Attempt-Maria Ioannidou-2022-02-14\\dlc-models\"\n",
      "Copying the videos\n"
     ]
    }
   ],
   "source": [
    "task='First Attempt'\n",
    "experimenter='Maria Ioannidou'\n",
    "video=['\\\\uni-mainz.de\\dfs\\profiles\\settings\\mioannid\\Desktop\\mariahandmoving']\n",
    "path_config_file=deeplabcut.create_new_project(task,experimenter,video,copy_videos=True)"
   ]
  },
  {
   "cell_type": "code",
   "execution_count": null,
   "id": "96fb3348",
   "metadata": {},
   "outputs": [],
   "source": []
  }
 ],
 "metadata": {
  "kernelspec": {
   "display_name": "Python 3",
   "language": "python",
   "name": "python3"
  },
  "language_info": {
   "codemirror_mode": {
    "name": "ipython",
    "version": 3
   },
   "file_extension": ".py",
   "mimetype": "text/x-python",
   "name": "python",
   "nbconvert_exporter": "python",
   "pygments_lexer": "ipython3",
   "version": "3.8.8"
  }
 },
 "nbformat": 4,
 "nbformat_minor": 5
}
